{
 "cells": [
  {
   "cell_type": "markdown",
   "metadata": {},
   "source": [
    "Antes de entregar el challenge, comprueba que todo funciona como esperas. Para ello reinicia el kernel y ejecuta el notebook desde el principio: (Kernel$\\rightarrow$Restart) y luego **run all cells** (en el menu, selecciona Cell$\\rightarrow$Run All).\n",
    "\n",
    "**Recuerda que es muy importante que guardes el worksheet con el nombre correcto**: `<nombre y apellido sin espacio>_solution_<titulo del notebook>`.\n",
    "\n",
    "Por ejemplo, para un notebook `pf2_python_basics_ch.ipynb`, la forma en que yo debo entregarlo es: \n",
    "\n",
    "`mariolopez_solution_pf2_python_basics_ch.ipynb`\n",
    "\n",
    "Completa todos los lugares que contienen `YOUR CODE HERE` o \"YOUR ANSWER HERE\", y tu nombre en `NAME`."
   ]
  },
  {
   "cell_type": "code",
   "execution_count": null,
   "metadata": {
    "collapsed": true
   },
   "outputs": [],
   "source": [
    "NAME = \"\""
   ]
  },
  {
   "cell_type": "markdown",
   "metadata": {},
   "source": [
    "---"
   ]
  },
  {
   "cell_type": "markdown",
   "metadata": {},
   "source": [
    "<img src=\"mioti.png\" style=\"height: 100px\">\n",
    "<center style=\"color:#888\">Data Science with Python @ Data Science for IoT<br/></center>\n",
    "\n",
    "\n",
    "# DSPy3. Python Challenge."
   ]
  },
  {
   "cell_type": "markdown",
   "metadata": {
    "toc": true
   },
   "source": [
    "<h1>Table of Contents<span class=\"tocSkip\"></span></h1>\n",
    "<div class=\"toc\"><ul class=\"toc-item\"><li><span><a href=\"#Números-primos-felices-(0.3p)\" data-toc-modified-id=\"Números-primos-felices-(0.3p)-1\"><span class=\"toc-item-num\">1&nbsp;&nbsp;</span>Números primos felices (0.3p)</a></span></li><li><span><a href=\"#Simon!-(1p)\" data-toc-modified-id=\"Simon!-(1p)-2\"><span class=\"toc-item-num\">2&nbsp;&nbsp;</span>Simon! (1p)</a></span></li><li><span><a href=\"#Don-Quijote-de-la-Mancha-(0.7p)\" data-toc-modified-id=\"Don-Quijote-de-la-Mancha-(0.7p)-3\"><span class=\"toc-item-num\">3&nbsp;&nbsp;</span>Don Quijote de la Mancha (0.7p)</a></span></li></ul></div>"
   ]
  },
  {
   "cell_type": "markdown",
   "metadata": {},
   "source": [
    "## Números primos felices (0.3p)"
   ]
  },
  {
   "cell_type": "code",
   "execution_count": null,
   "metadata": {
    "collapsed": true,
    "scrolled": false
   },
   "outputs": [],
   "source": [
    "from IPython.display import HTML\n",
    "HTML('<iframe width=\"560\" height=\"315\" src=\"https://www.youtube.com/embed/2tg4e42KQ4w\" frameborder=\"0\" allow=\"autoplay; encrypted-media\" allowfullscreen></iframe>')"
   ]
  },
  {
   "cell_type": "markdown",
   "metadata": {},
   "source": [
    "El **objetivo final del ejercicio es obtener una lista ordenada de numeros primos felices**. \n",
    "\n",
    "Nosotros no tenemos a Doctor Who, pero sí que tenemos dos supercomputadores calculando, por un lado los números felices y, por otro lado, los números primos. Nos envían dichos números en sendos ficheros de texto, con lo que solo tenemos que ver aquellos números que aparecen en ambos ficheros.\n",
    "\n",
    "El código necesario para leer ambas listas ya lo tenemos, es el siguiente:"
   ]
  },
  {
   "cell_type": "code",
   "execution_count": null,
   "metadata": {
    "collapsed": true,
    "scrolled": true
   },
   "outputs": [],
   "source": [
    "def file_to_list(file_name):\n",
    "    \"\"\"\n",
    "    Gets a filename and returns a list \n",
    "    where each element is one line of the file\n",
    "    \"\"\"\n",
    "    with open(file_name) as f:\n",
    "        lines = f.read().splitlines()\n",
    "        return lines\n",
    "\n",
    "happy_numbers = file_to_list(\"numeros_felices.txt\")\n",
    "print(\"Numeros felices: {}\".format(happy_numbers))\n",
    "\n",
    "prime_numbers = file_to_list(\"numeros_primos.txt\")\n",
    "print(\"Numeros primos: {}\".format(prime_numbers))"
   ]
  },
  {
   "cell_type": "markdown",
   "metadata": {},
   "source": [
    "Hagamos un primer intento: ¿cómo obtengo los elementos que están en ambas listas? ¿Con esto solucionamos el ejercicio?"
   ]
  },
  {
   "cell_type": "code",
   "execution_count": null,
   "metadata": {
    "collapsed": true,
    "deletable": false,
    "nbgrader": {
     "checksum": "9ec974572d9e43df27e338f0a10ba434",
     "grade": false,
     "grade_id": "cell-a7d6e03eaf02309e",
     "locked": false,
     "schema_version": 1,
     "solution": true
    },
    "scrolled": true
   },
   "outputs": [],
   "source": [
    "def get_happy_prime_numbers(happy_numbers, prime_numbers):\n",
    "    \"\"\"\n",
    "    Returns a data structure with the happy prime numbers\n",
    "    \"\"\"\n",
    "    # YOUR CODE HERE\n",
    "    raise NotImplementedError()\n",
    "\n",
    "\n"
   ]
  },
  {
   "cell_type": "code",
   "execution_count": null,
   "metadata": {
    "collapsed": true,
    "deletable": false,
    "editable": false,
    "nbgrader": {
     "checksum": "f1f8cd6d151cc3791294a3620285f393",
     "grade": true,
     "grade_id": "cell-abf410fba852d1b9",
     "locked": true,
     "points": 0.1,
     "schema_version": 1,
     "solution": false
    }
   },
   "outputs": [],
   "source": [
    "# ¡No borres esta celda! \n"
   ]
  },
  {
   "cell_type": "markdown",
   "metadata": {},
   "source": [
    "Tenemos que hacer algo de limpieza antes de poder llevar a cabo el paso anterior, entonces. Más concretamente, nos interesaría que `happy_numbers` y `prime_numbers` sean listas de enteros. Entonces:\n",
    "\n",
    "* Crea una nueva función `clean_list`, que intente convertir los str de la lista que leemos del fichero a una lista de enteros. Utiliza control de excepciones en ella.\n",
    "* Reescribe `file_to_list` para que llame dentro a `clean_list`. Llámala `file_to_clean_list`.\n",
    "* Reescribe `get_happy_prime_numbers` para que devuelva los números primos felices ordenados. Llama a esta función `get_sorted_happy_prime_numbers`.\n",
    "\n",
    "Realiza la reescritura que se pide en los siguientes bloques de código."
   ]
  },
  {
   "cell_type": "code",
   "execution_count": null,
   "metadata": {
    "collapsed": true,
    "deletable": false,
    "nbgrader": {
     "checksum": "aa167641dfe8e774881ed5db12a4f739",
     "grade": false,
     "grade_id": "cell-0a3372d2b3293e85",
     "locked": false,
     "schema_version": 1,
     "solution": true
    }
   },
   "outputs": [],
   "source": [
    "def clean_list(file_list_elements):\n",
    "    \"\"\"\n",
    "    Given a list of strings, converts such list a list of integers if possible\n",
    "    \"\"\"\n",
    "    # YOUR CODE HERE\n",
    "    raise NotImplementedError()"
   ]
  },
  {
   "cell_type": "code",
   "execution_count": null,
   "metadata": {
    "collapsed": true,
    "deletable": false,
    "nbgrader": {
     "checksum": "d46ce61b760e6af343cb204deb22c00a",
     "grade": false,
     "grade_id": "cell-2d4777d35e776c44",
     "locked": false,
     "schema_version": 1,
     "solution": true
    }
   },
   "outputs": [],
   "source": [
    "def file_to_clean_list(file_name):\n",
    "    \"\"\"\n",
    "    Given a filename with a number per line, returns such numbers in a list \n",
    "    \"\"\"\n",
    "    # YOUR CODE HERE\n",
    "    raise NotImplementedError()"
   ]
  },
  {
   "cell_type": "code",
   "execution_count": null,
   "metadata": {
    "collapsed": true,
    "deletable": false,
    "nbgrader": {
     "checksum": "43e448ed1160d864cddff403e3bfdc48",
     "grade": false,
     "grade_id": "cell-8ceaa7d9732e252e",
     "locked": false,
     "schema_version": 1,
     "solution": true
    }
   },
   "outputs": [],
   "source": [
    "def get_sorted_happy_prime_numbers(clean_happy_numbers, clean_prime_numbers):\n",
    "    \"\"\"\n",
    "    Given integer list of happy and prime numbers, returns the happy prime numbers\n",
    "    \"\"\"\n",
    "    # YOUR CODE HERE\n",
    "    raise NotImplementedError()"
   ]
  },
  {
   "cell_type": "code",
   "execution_count": null,
   "metadata": {
    "collapsed": true,
    "deletable": false,
    "editable": false,
    "nbgrader": {
     "checksum": "a6d3ea11e9775cdf57030b05f6e337ce",
     "grade": true,
     "grade_id": "cell-1c17fc736b096c6c",
     "locked": true,
     "points": 0.2,
     "schema_version": 1,
     "solution": false
    }
   },
   "outputs": [],
   "source": [
    "# ¡No borres esta celda!\n"
   ]
  },
  {
   "cell_type": "markdown",
   "metadata": {},
   "source": [
    "## Simon! (1p)"
   ]
  },
  {
   "cell_type": "markdown",
   "metadata": {},
   "source": [
    "Implementa el juego \"Simon\". Al usuario se le irá mostrando una secuencia creciente de cuadrados de colores. Al terminar de verla, deberá introducir los colores que ha visto en el mismo orden. \n",
    "<img src=\"simon.jpg\" style=\"height: 300px\">"
   ]
  },
  {
   "cell_type": "markdown",
   "metadata": {},
   "source": [
    "Te serán útiles las siguientes funciones:\n",
    "* Para mostrar programáticamente una imagen que esta presente en el mismo directorio que el notebook \n",
    "```\n",
    "from IPython.display import Image    # Solo importamos una vez!\n",
    "display(Image('nombre_fichero.xyz'))\n",
    "```\n"
   ]
  },
  {
   "cell_type": "code",
   "execution_count": null,
   "metadata": {
    "collapsed": true
   },
   "outputs": [],
   "source": [
    "from IPython.display import Image\n",
    "display(Image('r.png'))"
   ]
  },
  {
   "cell_type": "markdown",
   "metadata": {},
   "source": [
    "* Para hacer que la ejecución de un programa se pause 'x' segundos:\n",
    "```\n",
    "import time   # Solo importamos una vez!\n",
    "time.sleep(x) \n",
    "```"
   ]
  },
  {
   "cell_type": "code",
   "execution_count": null,
   "metadata": {
    "collapsed": true
   },
   "outputs": [],
   "source": [
    "import time\n",
    "while True:\n",
    "    print(\"Me voy a dormir...\")\n",
    "    time.sleep(5)\n",
    "    input(\"Me he despertado. ¿Quieres algo?\")\n",
    "    print(\"Me da igual\")"
   ]
  },
  {
   "cell_type": "markdown",
   "metadata": {},
   "source": [
    "* Para borrar programáticamente el output de la celda\n",
    "```\n",
    "from IPython.display import clear_output\n",
    "clear_output()\n",
    "```"
   ]
  },
  {
   "cell_type": "code",
   "execution_count": null,
   "metadata": {
    "collapsed": true
   },
   "outputs": [],
   "source": [
    "from IPython.display import clear_output\n",
    "wants_to_erase = input(\"Macizo...! Qué vergüenza 😳, ¿lo borro?\")\n",
    "if wants_to_erase == \"y\":\n",
    "    clear_output()\n",
    "    print(\"🤫\")"
   ]
  },
  {
   "cell_type": "code",
   "execution_count": null,
   "metadata": {
    "collapsed": true,
    "deletable": false,
    "nbgrader": {
     "checksum": "ed68870d6404a23960bef1f60abb2f1f",
     "grade": true,
     "grade_id": "cell-fec981f201526f96",
     "locked": false,
     "points": 1,
     "schema_version": 1,
     "solution": true
    }
   },
   "outputs": [],
   "source": [
    "# YOUR CODE HERE\n",
    "raise NotImplementedError()"
   ]
  },
  {
   "cell_type": "markdown",
   "metadata": {},
   "source": [
    "## Don Quijote de la Mancha (0.7p)\n",
    "Cuenta cada una de las palabras que hay en el primer capítulo del Quijote, e imprime, las 5 palabras más usadas (y cuánto se repiten) en órden."
   ]
  },
  {
   "cell_type": "markdown",
   "metadata": {},
   "source": [
    "\n",
    "<img src=\"don_quijote.png\" style=\"height: 600px\">"
   ]
  },
  {
   "cell_type": "markdown",
   "metadata": {},
   "source": [
    "El siguiente bloque de código lee el primer capítulo de \"Don Quijote de la Mancha\", y deja en la variable `first_ch_str` un único string con todas las palabras sin signos de puntuación."
   ]
  },
  {
   "cell_type": "code",
   "execution_count": null,
   "metadata": {
    "collapsed": true
   },
   "outputs": [],
   "source": [
    "import string\n",
    "with open(\"quijote.txt\", encoding=\"UTF-8\") as f:\n",
    "    first_ch_str = f.read()\n",
    "translator = str.maketrans('', '', string.punctuation)\n",
    "first_ch_str = first_ch_str.translate(translator)"
   ]
  },
  {
   "cell_type": "markdown",
   "metadata": {},
   "source": [
    "1) Encuentra la manera de iterar sobre ese string, palabra por palabra\n",
    "\n",
    "\n"
   ]
  },
  {
   "cell_type": "code",
   "execution_count": null,
   "metadata": {
    "collapsed": true,
    "deletable": false,
    "nbgrader": {
     "checksum": "38e17fb33f9bd3cfa6b58062d31a2c35",
     "grade": false,
     "grade_id": "cell-8d3112f46c145e4a",
     "locked": false,
     "schema_version": 1,
     "solution": true
    }
   },
   "outputs": [],
   "source": [
    "# Please do not change the name of this var!!!\n",
    "# The string list should be named like this!\n",
    "chapter_by_word = None\n",
    "\n",
    "# YOUR CODE HERE\n",
    "raise NotImplementedError()\n"
   ]
  },
  {
   "cell_type": "code",
   "execution_count": null,
   "metadata": {
    "collapsed": true,
    "deletable": false,
    "editable": false,
    "nbgrader": {
     "checksum": "97d941d0c8033cb4222f1dfd0f53ebfe",
     "grade": true,
     "grade_id": "cell-bb75b1de248b9b5c",
     "locked": true,
     "points": 0.1,
     "schema_version": 1,
     "solution": false
    }
   },
   "outputs": [],
   "source": [
    "# ¡No borres esta celda!\n"
   ]
  },
  {
   "cell_type": "markdown",
   "metadata": {},
   "source": [
    "2) Escribe un método para guardar en la estructura de datos que sea más adecuada cuántas veces ha ido apareciendo cada palabra y escribe un método para consultar el número de veces que aparece una palabra (usando esa estructura)."
   ]
  },
  {
   "cell_type": "code",
   "execution_count": null,
   "metadata": {
    "collapsed": true,
    "deletable": false,
    "nbgrader": {
     "checksum": "9accf253778c6fd086982d9dbcf60140",
     "grade": false,
     "grade_id": "cell-c575b83126589c1b",
     "locked": false,
     "schema_version": 1,
     "solution": true
    }
   },
   "outputs": [],
   "source": [
    "def count_words_in_string_list(string_list):\n",
    "    \"\"\"\n",
    "    Given a list of strings, counts the occurrences of each string \n",
    "    \"\"\"\n",
    "    # YOUR CODE HERE\n",
    "    raise NotImplementedError()"
   ]
  },
  {
   "cell_type": "code",
   "execution_count": null,
   "metadata": {
    "collapsed": true,
    "deletable": false,
    "nbgrader": {
     "checksum": "ca68b3ae36272841d35c0ef63e494b28",
     "grade": false,
     "grade_id": "cell-4691fbbc01a99338",
     "locked": false,
     "schema_version": 1,
     "solution": true
    }
   },
   "outputs": [],
   "source": [
    "def get_occurrences_for_word(words_and_repetitions, word):\n",
    "    \"\"\"\n",
    "    Given a data structure 'words_and_repetitions', with each word and its occurrences,\n",
    "    returns the occurence of 'word' as stored in the structure. \n",
    "    \"\"\"\n",
    "    # YOUR CODE HERE\n",
    "    raise NotImplementedError()"
   ]
  },
  {
   "cell_type": "code",
   "execution_count": null,
   "metadata": {
    "collapsed": true,
    "deletable": false,
    "editable": false,
    "nbgrader": {
     "checksum": "577975d4f2d265680d20200a8cec3a4e",
     "grade": true,
     "grade_id": "cell-e816563fdd325fe6",
     "locked": true,
     "points": 0.3,
     "schema_version": 1,
     "solution": false
    }
   },
   "outputs": [],
   "source": [
    "# ¡No borres esta celda!"
   ]
  },
  {
   "cell_type": "markdown",
   "metadata": {},
   "source": [
    "3) Elimina de esa estructura aquellas palabras que son comunes (conocidas como _stop words_). El siguiente bloque de código da un set de esas palabras en `spa_stop_words`.\n"
   ]
  },
  {
   "cell_type": "code",
   "execution_count": null,
   "metadata": {
    "collapsed": true
   },
   "outputs": [],
   "source": [
    "import nltk\n",
    "from nltk.corpus import stopwords\n",
    "nltk.download('stopwords')\n",
    "spa_stop_words=set(stopwords.words('spanish'))\n",
    "print(spa_stop_words)"
   ]
  },
  {
   "cell_type": "code",
   "execution_count": null,
   "metadata": {
    "collapsed": true,
    "deletable": false,
    "nbgrader": {
     "checksum": "751b07ef7ae512513ade20abb361ce39",
     "grade": false,
     "grade_id": "cell-c600bc1207d47b7c",
     "locked": false,
     "schema_version": 1,
     "solution": true
    }
   },
   "outputs": [],
   "source": [
    "def remove_stop_words(words_and_repetitions, stop_words):\n",
    "    \"\"\"\n",
    "    Removes the `stop_words` from `words_and_repetitions`\n",
    "    \"\"\"\n",
    "    # YOUR CODE HERE\n",
    "    raise NotImplementedError()\n",
    "    return words_and_repetitions\n",
    "\n",
    "\n",
    "\n",
    "\n",
    "\n",
    "\n",
    "\n"
   ]
  },
  {
   "cell_type": "code",
   "execution_count": null,
   "metadata": {
    "collapsed": true,
    "deletable": false,
    "editable": false,
    "nbgrader": {
     "checksum": "27181917fc7e735154c6ddf761a3d96e",
     "grade": true,
     "grade_id": "cell-e6e65639277a3549",
     "locked": true,
     "points": 0.1,
     "schema_version": 1,
     "solution": false
    }
   },
   "outputs": [],
   "source": [
    "# ¡No borres esta celda!"
   ]
  },
  {
   "cell_type": "markdown",
   "metadata": {},
   "source": [
    "4) Ordena esa estructura de datos si es posible, o encuentra una manera de dotarla de órden. Te será de utilidad la función `sorted`, que acepta una función como argumento `key`, que se ejecutará para cada elemento de la estructura y se usará como criterio de ordenación. Escribe una función que devuelva ordenadas las 5 palabras más usadas y cuánto se han usado en una lista de tuplas."
   ]
  },
  {
   "cell_type": "code",
   "execution_count": null,
   "metadata": {
    "collapsed": true,
    "deletable": false,
    "nbgrader": {
     "checksum": "1860d9cad0cef819cd3d57f738daa3a6",
     "grade": false,
     "grade_id": "cell-1fc34b26fff98fc1",
     "locked": false,
     "schema_version": 1,
     "solution": true
    }
   },
   "outputs": [],
   "source": [
    "def top_5_words_and_occurrences(words_and_repetitions):\n",
    "    \"\"\"\n",
    "    Sorts words_and_repetitions and returns the top 5 elements\n",
    "    \"\"\"\n",
    "    # YOUR CODE HERE\n",
    "    raise NotImplementedError()\n"
   ]
  },
  {
   "cell_type": "code",
   "execution_count": null,
   "metadata": {
    "collapsed": true,
    "deletable": false,
    "editable": false,
    "nbgrader": {
     "checksum": "8d48f4a7e56ee78d85fe42ceb38e4cec",
     "grade": true,
     "grade_id": "cell-9d9a8abba80044cc",
     "locked": true,
     "points": 0.2,
     "schema_version": 1,
     "solution": false
    }
   },
   "outputs": [],
   "source": [
    "# ¡No borres esta celda!"
   ]
  }
 ],
 "metadata": {
  "kernelspec": {
   "display_name": "Python 3",
   "language": "python",
   "name": "python3"
  },
  "language_info": {
   "codemirror_mode": {
    "name": "ipython",
    "version": 3
   },
   "file_extension": ".py",
   "mimetype": "text/x-python",
   "name": "python",
   "nbconvert_exporter": "python",
   "pygments_lexer": "ipython3",
   "version": "3.7.1"
  },
  "toc": {
   "base_numbering": 1,
   "nav_menu": {},
   "number_sections": true,
   "sideBar": true,
   "skip_h1_title": true,
   "title_cell": "Table of Contents",
   "title_sidebar": "Contents",
   "toc_cell": true,
   "toc_position": {},
   "toc_section_display": true,
   "toc_window_display": true
  },
  "varInspector": {
   "cols": {
    "lenName": 16,
    "lenType": 16,
    "lenVar": 40
   },
   "kernels_config": {
    "python": {
     "delete_cmd_postfix": "",
     "delete_cmd_prefix": "del ",
     "library": "var_list.py",
     "varRefreshCmd": "print(var_dic_list())"
    },
    "r": {
     "delete_cmd_postfix": ") ",
     "delete_cmd_prefix": "rm(",
     "library": "var_list.r",
     "varRefreshCmd": "cat(var_dic_list()) "
    }
   },
   "types_to_exclude": [
    "module",
    "function",
    "builtin_function_or_method",
    "instance",
    "_Feature"
   ],
   "window_display": false
  }
 },
 "nbformat": 4,
 "nbformat_minor": 2
}
